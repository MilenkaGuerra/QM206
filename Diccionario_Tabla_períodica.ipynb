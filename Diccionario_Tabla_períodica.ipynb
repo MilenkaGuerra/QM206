{
  "nbformat": 4,
  "nbformat_minor": 0,
  "metadata": {
    "colab": {
      "provenance": [],
      "authorship_tag": "ABX9TyORrAkzEi8OpOGixdPdu3/I",
      "include_colab_link": true
    },
    "kernelspec": {
      "name": "python3",
      "display_name": "Python 3"
    },
    "language_info": {
      "name": "python"
    }
  },
  "cells": [
    {
      "cell_type": "markdown",
      "metadata": {
        "id": "view-in-github",
        "colab_type": "text"
      },
      "source": [
        "<a href=\"https://colab.research.google.com/github/MilenkaGuerra/QM206/blob/main/Diccionario_Tabla_per%C3%ADodica.ipynb\" target=\"_parent\"><img src=\"https://colab.research.google.com/assets/colab-badge.svg\" alt=\"Open In Colab\"/></a>"
      ]
    },
    {
      "cell_type": "markdown",
      "source": [
        "Diccionario"
      ],
      "metadata": {
        "id": "5PHuR65ykmQz"
      }
    },
    {
      "cell_type": "code",
      "execution_count": 1,
      "metadata": {
        "colab": {
          "base_uri": "https://localhost:8080/"
        },
        "id": "2S0B3RaQkbiP",
        "outputId": "fcaf3398-1097-40b8-ec99-41a88b75aaee"
      },
      "outputs": [
        {
          "output_type": "stream",
          "name": "stdout",
          "text": [
            "[{'simbolo': 'H', 'NumAtom': 1, 'masa': 1.0079}, {'simbolo': 'He', 'NumAtom': 2, 'masa': 4.0026}, {'simbolo': 'Li', 'NumAtom': 3, 'masa': 6.939}, {'simbolo': 'Be', 'NumAtom': 4, 'masa': 9.0122}, {'simbolo': 'B', 'NumAtom': 5, 'masa': 10.811}, {'simbolo': 'C', 'NumAtom': 6, 'masa': 12.011}, {'simbolo': 'N', 'NumAtom': 7, 'masa': 14.006}, {'simbolo': 'O', 'NumAtom': 8, 'masa': 15.999}, {'simbolo': 'F', 'NumAtom': 9, 'masa': 18.998}, {'simbolo': 'Ne', 'NumAtom': 10, 'masa': 20.183}, {'simbolo': 'Ne', 'NumAtom': 10, 'masa': 20.183}, {'simbolo': 'Mg', 'NumAtom': 12, 'masa': 24.312}, {'simbolo': 'Al', 'NumAtom': 13, 'masa': 26.981}, {'simbolo': 'Si', 'NumAtom': 14, 'masa': 28.086}, {'simbolo': 'P', 'NumAtom': 15, 'masa': 30.973}, {'simbolo': 'S', 'NumAtom': 16, 'masa': 32.064}, {'simbolo': 'Cl', 'NumAtom': 17, 'masa': 35.453}, {'simbolo': 'Ar', 'NumAtom': 18, 'masa': 39.948}, {'simbolo': 'K', 'NumAtom': 19, 'masa': 39.102}, {'simbolo': 'Ca', 'NumAtom': 20, 'masa': 40.08}]\n",
            "{'simbolo': 'S', 'NumAtom': 16, 'masa': 32.064}\n"
          ]
        }
      ],
      "source": [
        "elementos=[]\n",
        "elemen={\"simbolo\":\"H\",\"NumAtom\":1,\"masa\":1.0079}\n",
        "elementos.append(elemen)\n",
        "elemen={\"simbolo\":\"He\",\"NumAtom\":2,\"masa\":4.0026}\n",
        "elementos.append(elemen)\n",
        "elemen={\"simbolo\":\"Li\",\"NumAtom\":3,\"masa\":6.939}\n",
        "elementos.append(elemen)\n",
        "elemen={\"simbolo\":\"Be\",\"NumAtom\":4,\"masa\":9.0122}\n",
        "elementos.append(elemen)\n",
        "elemen={\"simbolo\":\"B\",\"NumAtom\":5,\"masa\":10.811}\n",
        "elementos.append(elemen)\n",
        "elemen={\"simbolo\":\"C\",\"NumAtom\":6,\"masa\":12.011}\n",
        "elementos.append(elemen)\n",
        "elemen={\"simbolo\":\"N\",\"NumAtom\":7,\"masa\":14.006}\n",
        "elementos.append(elemen)\n",
        "elemen={\"simbolo\":\"O\",\"NumAtom\":8,\"masa\":15.999}\n",
        "elementos.append(elemen)\n",
        "elemen={\"simbolo\":\"F\",\"NumAtom\":9,\"masa\":18.998}\n",
        "elementos.append(elemen)\n",
        "elemen={\"simbolo\":\"Ne\",\"NumAtom\":10,\"masa\":20.183}\n",
        "elementos.append(elemen)\n",
        "elemem={\"simbolo\":\"Na\",\"NumAtom\":11,\"masa\":22.989}\n",
        "elementos.append(elemen)\n",
        "elemen={\"simbolo\":\"Mg\",\"NumAtom\":12,\"masa\":24.312}\n",
        "elementos.append(elemen)\n",
        "elemen={\"simbolo\":\"Al\",\"NumAtom\":13,\"masa\":26.981}\n",
        "elementos.append(elemen)\n",
        "elemen={\"simbolo\":\"Si\",\"NumAtom\":14,\"masa\":28.086}\n",
        "elementos.append(elemen)\n",
        "elemen={\"simbolo\":\"P\",\"NumAtom\":15,\"masa\":30.973}\n",
        "elementos.append(elemen)\n",
        "elemen={\"simbolo\":\"S\",\"NumAtom\":16,\"masa\":32.064}\n",
        "elementos.append(elemen)\n",
        "elemen={\"simbolo\":\"Cl\",\"NumAtom\":17,\"masa\":35.453}\n",
        "elementos.append(elemen)\n",
        "elemen={\"simbolo\":\"Ar\",\"NumAtom\":18,\"masa\":39.948}\n",
        "elementos.append(elemen)\n",
        "elemen={\"simbolo\":\"K\",\"NumAtom\":19,\"masa\":39.102}\n",
        "elementos.append(elemen)\n",
        "elemen={\"simbolo\":\"Ca\",\"NumAtom\":20,\"masa\":40.08}\n",
        "elementos.append(elemen)\n",
        "print(elementos)\n",
        "print(elementos[15])"
      ]
    }
  ]
}