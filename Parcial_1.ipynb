{
  "nbformat": 4,
  "nbformat_minor": 0,
  "metadata": {
    "colab": {
      "provenance": [],
      "authorship_tag": "ABX9TyPtIaBeGdDCz/Ca8rah7I6/",
      "include_colab_link": true
    },
    "kernelspec": {
      "name": "python3",
      "display_name": "Python 3"
    },
    "language_info": {
      "name": "python"
    }
  },
  "cells": [
    {
      "cell_type": "markdown",
      "metadata": {
        "id": "view-in-github",
        "colab_type": "text"
      },
      "source": [
        "<a href=\"https://colab.research.google.com/github/MilenkaGuerra/QM206/blob/main/Parcial_1.ipynb\" target=\"_parent\"><img src=\"https://colab.research.google.com/assets/colab-badge.svg\" alt=\"Open In Colab\"/></a>"
      ]
    },
    {
      "cell_type": "markdown",
      "source": [
        "**Problema #1 Molaridad**\n",
        "\n",
        "molaridad = gramos / (peso_molecular * volumen)\n"
      ],
      "metadata": {
        "id": "evjyf7IwIkwL"
      }
    },
    {
      "cell_type": "markdown",
      "source": [
        "Ejemplo: Calcule la molaridad del sulfato de sodio en una disolución que se preparó disolviendo 23.4 g de sulfato de sodio (Na2SO4) en suficiente agua,\n",
        "para formar 125 mL de disolución"
      ],
      "metadata": {
        "id": "0GVARF6iNLC4"
      }
    },
    {
      "cell_type": "code",
      "source": [
        "# Datos\n",
        "gramos_soluto = 23.4              # Masa de Na2SO4 en gramos\n",
        "peso_molecular_Na2SO4 = 142.04    # Peso molecular de Na2SO4 en g/mol\n",
        "volumen_solucion_L = 125 / 1000   # Convertimos 125 mL a litros (0.125 L)\n",
        "\n",
        "# Cálculo de la molaridad\n",
        "molaridad = gramos_soluto / (peso_molecular_Na2SO4 * volumen_solucion_L)\n",
        "\n",
        "# Resultado\n",
        "print(f\"La molaridad de la solución es {molaridad:.3f} M\")\n"
      ],
      "metadata": {
        "colab": {
          "base_uri": "https://localhost:8080/"
        },
        "id": "SftXt4eiPBIo",
        "outputId": "70fce257-084c-4abf-adc0-3e7038b14b7c"
      },
      "execution_count": null,
      "outputs": [
        {
          "output_type": "stream",
          "name": "stdout",
          "text": [
            "La molaridad de la solución es 1.318 M\n"
          ]
        }
      ]
    },
    {
      "cell_type": "markdown",
      "source": [
        "Problema #2\n",
        "\n",
        "Función que calcule el pH de una solución de Ácido-fuerte\n",
        "\n",
        "pH=−log[H\n",
        "+\n",
        " ].\n"
      ],
      "metadata": {
        "id": "ihNiG2d0PkJ9"
      }
    },
    {
      "cell_type": "markdown",
      "source": [
        "Ejemplo: Calcula el pH de una solución de ácido nítrico (\n",
        "HNO\n",
        "3\n",
        "HNO\n",
        "3\n",
        "​\n",
        " ) con una concentración de 0.0015 M.\n",
        "\n",
        "La molaridad de\n",
        "HNO\n",
        "3\n",
        "HNO\n",
        "3\n",
        "​\n",
        "  es 0.0015 M, lo que significa que la concentración de iones de hidrógeno\n",
        "[\n",
        "H\n",
        "+\n",
        "]\n",
        "[H\n",
        "+\n",
        " ] también es 0.0015 M, ya que el ácido fuerte se disocia completamente."
      ],
      "metadata": {
        "id": "YSPvNsZ0QiFI"
      }
    },
    {
      "cell_type": "code",
      "source": [
        "import math\n",
        "\n",
        "def calcular_pH_acido_fuerte(molaridad):\n",
        "    \"\"\"\n",
        "    Calcula el pH de una solución de un ácido fuerte.\n",
        "\n",
        "    Args:\n",
        "    molaridad (float): Concentración del ácido fuerte en moles/L (M).\n",
        "\n",
        "    Returns:\n",
        "    float: El pH de la solución.\n",
        "    \"\"\"\n",
        "    if molaridad <= 0:\n",
        "        raise ValueError(\"La molaridad debe ser mayor que cero para calcular el pH.\")\n",
        "\n",
        "    pH = -math.log10(molaridad)\n",
        "    return pH\n",
        "\n",
        "# Ejemplo con ácido nítrico (HNO3)\n",
        "# Datos del problema: Molaridad de HNO3 es 0.0015 M\n",
        "molaridad_HNO3 = 0.0015  # Concentración del ácido HNO3 en moles/L\n",
        "\n",
        "# Cálculo del pH\n",
        "pH = calcular_pH_acido_fuerte(molaridad_HNO3)\n",
        "\n",
        "print(f\"El pH de la solución de HNO3 es {pH:.3f}\")\n"
      ],
      "metadata": {
        "colab": {
          "base_uri": "https://localhost:8080/"
        },
        "id": "-rW6SZtxQlnr",
        "outputId": "a8fbcf82-ef86-435b-c859-eeb3b84961c2"
      },
      "execution_count": null,
      "outputs": [
        {
          "output_type": "stream",
          "name": "stdout",
          "text": [
            "El pH de la solución de HNO3 es 2.824\n"
          ]
        }
      ]
    },
    {
      "cell_type": "markdown",
      "source": [
        "Problema #3\n",
        "\n",
        "Problema de Gases\n",
        "\n",
        "Calcular la masa molar de un gas ideal\n",
        "\n",
        "PV=nRT\n",
        "\n",
        "\n"
      ],
      "metadata": {
        "id": "kvfv5cEKRive"
      }
    },
    {
      "cell_type": "markdown",
      "source": [
        "Ejemplo: Un gas se encuentra a una temperatura de 300 K, un volumen de 2.5 L y una presión de 1.2 atm. Si la masa del gas es de 10 gramos, ¿cuál es su masa molar?"
      ],
      "metadata": {
        "id": "5qsaBXdLBdSG"
      }
    },
    {
      "cell_type": "code",
      "source": [
        "def calcular_masa_molar(P, V, m, T):\n",
        "    \"\"\"\n",
        "    Calcula la masa molar de un gas ideal usando la ecuación de los gases ideales.\n",
        "\n",
        "    Args:\n",
        "    P (float): Presión del gas en atm (atmosfera).\n",
        "    V (float): Volumen del gas en L.\n",
        "    m (float): Masa del gas en gramos.\n",
        "    T (float): Temperatura en Kelvin.\n",
        "\n",
        "    Returns:\n",
        "    float: Masa molar del gas en g/mol.\n",
        "    \"\"\"\n",
        "    R = 0.0821  # Constante de los gases ideales en L·atm/mol·K\n",
        "    n = (P * V) / (R * T)  # Número de moles de gas usando la ecuación de los gases ideales\n",
        "    masa_molar = m / n      # Masa molar (g/mol)\n",
        "    return masa_molar\n",
        "\n",
        "# Datos del problema\n",
        "P = 1.2  # Presión en atm\n",
        "V = 2.5  # Volumen en L\n",
        "m = 10.0   # Masa del gas en g\n",
        "T = 300  # Temperatura en K\n",
        "\n",
        "# Calculo de la masa molar\n",
        "masa_molar = calcular_masa_molar(P, V, m, T)\n",
        "\n",
        "print(f\"La masa molar del gas es {masa_molar:.3f} g/mol\")\n"
      ],
      "metadata": {
        "id": "BmXaS10ORLeq",
        "colab": {
          "base_uri": "https://localhost:8080/"
        },
        "outputId": "cc6d9436-d4d3-4cf9-d7ef-1259a909fe37"
      },
      "execution_count": null,
      "outputs": [
        {
          "output_type": "stream",
          "name": "stdout",
          "text": [
            "La masa molar del gas es 82.100 g/mol\n"
          ]
        }
      ]
    },
    {
      "cell_type": "markdown",
      "source": [
        "Problema#4\n",
        "\n",
        "Funcion que calcule las concentraciones del ácido y de la base conjugada para la preparación de un buffer\n",
        "\n",
        "pH=pKa+log(\n",
        "[Base conjugada/ácido])\n",
        "\n",
        " Ejemplo: Preparar una solución buffer con un pH de 7.4 utilizando ácido fosfórico, que tiene un pKa de 7.2. El volumen total deseado para la solución es de 0.5 litros.\n",
        " ¿Cuántos moles de ácido y de base conjugada se necesitan para preparar 0.5 litros de una solución buffer con un pH de 7.4, utilizando ácido fosfórico con un pKa de 7.2?"
      ],
      "metadata": {
        "id": "coM1WlE-RlMj"
      }
    },
    {
      "cell_type": "code",
      "source": [
        "def preparar_buffer(pH, pKa, volumen_total):\n",
        "    \"\"\"\n",
        "    Calcula las moles de ácido y base conjugada necesarias para preparar una solución buffer.\n",
        "\n",
        "    pH: pH deseado de la solución buffer.\n",
        "    pKa: pKa del ácido utilizado.\n",
        "    volumen_total: volumen total de la solución buffer en litros.\n",
        "\n",
        "    Devuelve la cantidad de ácido y base conjugada en moles.\n",
        "    \"\"\"\n",
        "    # Calcular la relación entre la base conjugada y el ácido\n",
        "    relacion_base_acido = 10**(pH - pKa)\n",
        "\n",
        "    # Asumimos que la suma de las concentraciones de ácido y base conjugada es 1 M\n",
        "    concentracion_acido = 1 / (1 + relacion_base_acido)\n",
        "    concentracion_base_conjugada = concentracion_acido * relacion_base_acido\n",
        "\n",
        "    # Ajustar moles en base al volumen total\n",
        "    cantidad_acido = concentracion_acido * volumen_total  # moles de ácido\n",
        "    cantidad_base_conjugada = concentracion_base_conjugada * volumen_total  # moles de base conjugada\n",
        "\n",
        "    return cantidad_acido, cantidad_base_conjugada\n",
        "\n",
        "# Datos del problema\n",
        "pH_deseado = 7.4\n",
        "pKa_acido = 7.2\n",
        "volumen_buffer = 0.5  # litros\n",
        "\n",
        "acido, base_conjugada = preparar_buffer(pH_deseado, pKa_acido, volumen_buffer)\n",
        "print(f\"concentraciones:Acido={acido} moles, Base conjugada={base_conjugada} moles\")"
      ],
      "metadata": {
        "id": "4-9Zd8a2RnT5",
        "colab": {
          "base_uri": "https://localhost:8080/"
        },
        "outputId": "89221399-1e12-468a-f630-1b2ef240d384"
      },
      "execution_count": null,
      "outputs": [
        {
          "output_type": "stream",
          "name": "stdout",
          "text": [
            "concentraciones:Acido=0.19343158992342846 moles, Base conjugada=0.3065684100765716 moles\n"
          ]
        }
      ]
    },
    {
      "cell_type": "markdown",
      "source": [
        "Problema #5\n",
        "\n",
        "Calcular la energía liberada en una reacción química\n",
        "\n",
        "Se desea calcular la energía liberada en una reacción de combustión en la que reaccionan dos reactivos: metano (\n",
        "CH4\n",
        "​\n",
        " ) y oxígeno (\n",
        "O2\n",
        "​\n",
        " ), de acuerdo con la siguiente ecuación química balanceada:\n",
        " CH\n",
        "4\n",
        "​\n",
        " (g)+2O\n",
        "2\n",
        "​\n",
        " (g)→CO\n",
        "2\n",
        "​\n",
        " (g)+2H\n",
        "2\n",
        "​\n",
        " O(l)\n",
        " Se sabe que la entalpía estándar de formación (\n",
        "Δ\n",
        "𝐻\n",
        "𝑓\n",
        "∘\n",
        "​\n",
        " ) para cada uno de los compuestos involucrados en la reacción es la siguiente:\n",
        "\n",
        "\n",
        "*   ΔH\n",
        "f\n",
        "∘\n",
        "​\n",
        " (CH4\n",
        "​\n",
        " )=−74.8kJ/mol\n",
        "*   ΔH\n",
        "f\n",
        "∘\n",
        "​\n",
        " (O 2\n",
        "​\n",
        " )=0kJ/mol\n",
        "\n",
        "\n",
        "*   ΔH\n",
        "f\n",
        "∘\n",
        "​\n",
        " (CO2\n",
        "​\n",
        " )=−393.5kJ/mol\n",
        "*   ΔH\n",
        "f\n",
        "∘\n",
        "​\n",
        " (H2\n",
        "​\n",
        " O)=−241.8kJ/mol\n",
        "\n",
        "Si se utilizan 2 moles de metano y 2 moles de oxígeno, calcular la energía total liberada en la reacción de combustión.\n"
      ],
      "metadata": {
        "id": "brIevs3bRmva"
      }
    },
    {
      "cell_type": "code",
      "source": [
        "def calcular_energia_liberada(moles_reactivos, delta_H_reactivos):\n",
        "    \"\"\"\n",
        "    Calcula la energía liberada o absorbida en una reacción química.\n",
        "\n",
        "    moles_reactivos: lista de moles de cada reactivo (en orden).\n",
        "    delta_H_reactivos: lista de entalpías de formación (Delta H) de cada reactivo en kJ/mol (en el mismo orden).\n",
        "\n",
        "    Retorna la energía total (en kJ) liberada (valor negativo) o absorbida (valor positivo).\n",
        "    \"\"\"\n",
        "    energia_total = 0\n",
        "    for moles, delta_H in zip(moles_reactivos, delta_H_reactivos):\n",
        "        energia_total += moles * delta_H\n",
        "\n",
        "    return energia_total\n",
        "\n",
        "# Datos\n",
        "# Moles de los reactivos a utilizar:\n",
        "# Reactivo 1, Metano: 2 moles, Delta H = -74.8 kJ/mol\n",
        "# Reactivo 2,Oxigeno: 2 moles, Delta H = 0 kJ/mol\n",
        "\n",
        "moles_reactivos = [2, 2]\n",
        "delta_H_reactivos = [-74.8,0]\n",
        "\n",
        "energia_liberada = calcular_energia_liberada(moles_reactivos, delta_H_reactivos)\n",
        "print(f\"Energía liberada: {energia_liberada} kJ\")\n"
      ],
      "metadata": {
        "id": "vv5etqXsRp_O",
        "colab": {
          "base_uri": "https://localhost:8080/"
        },
        "outputId": "1d9d22c4-f139-41c2-b18f-6da62233dcc0"
      },
      "execution_count": null,
      "outputs": [
        {
          "output_type": "stream",
          "name": "stdout",
          "text": [
            "Energía liberada: -149.6 kJ\n"
          ]
        }
      ]
    },
    {
      "cell_type": "markdown",
      "source": [
        "Problema #6\n",
        "\n",
        "Calcular el rendimiento porcentual\n",
        "\n",
        "Ejemplo: Al realizar un experimento de síntesis de aspirina (ácido acetilsalicílico) en el laboratorio. Según los cálculos teóricos, a partir de las cantidades de reactivos que se utilizaron, se esperaba obtener 5.0 gramos de aspirina. Sin embargo, después de completar la reacción y purificar el producto, se obtuvo solo 4.2 gramos de aspirina."
      ],
      "metadata": {
        "id": "1yn2nYsERqXV"
      }
    },
    {
      "cell_type": "code",
      "source": [
        "def calcular_rendimiento_porcentual(masa_teorica, masa_experimental):\n",
        "    \"\"\"\n",
        "    Calcula el rendimiento porcentual de una reacción química.\n",
        "\n",
        "    masa_teorica: La masa del producto que se esperaba obtener (en gramos).\n",
        "    masa_experimental: La masa del producto que realmente se obtuvo (en gramos).\n",
        "\n",
        "    Retorna el rendimiento porcentual de la reacción.\n",
        "    \"\"\"\n",
        "    rendimiento = (masa_experimental / masa_teorica) * 100\n",
        "    return rendimiento\n",
        "\n",
        "# Datos\n",
        "masa_teorica = 5.0  # gramos de aspirina esperada\n",
        "masa_experimental = 4.2  # gramos de aspirina obtenida\n",
        "\n",
        "rendimiento = calcular_rendimiento_porcentual(masa_teorica, masa_experimental)\n",
        "print(f\"El rendimiento porcentual de la síntesis de aspirina es: {rendimiento}%\")"
      ],
      "metadata": {
        "id": "Tv8Q596URsML",
        "colab": {
          "base_uri": "https://localhost:8080/"
        },
        "outputId": "c7689e76-51fc-4280-f655-51750f82c5a0"
      },
      "execution_count": null,
      "outputs": [
        {
          "output_type": "stream",
          "name": "stdout",
          "text": [
            "El rendimiento porcentual de la síntesis de aspirina es: 84.00000000000001%\n"
          ]
        }
      ]
    },
    {
      "cell_type": "markdown",
      "source": [
        "Problema #7\n",
        "Calcular el calor especifico de un metal\n",
        "\n",
        "Supongamos que estamos llevando a cabo un experimento para determinar el calor específico de un metal. Sabemos que el calor específico (\n",
        "𝑐\n",
        "c) es la cantidad de calor necesaria para elevar la temperatura de una unidad de masa de una sustancia en 1°C. En este caso, se nos da la siguiente información:\n",
        "\n",
        "La masa del metal es 50 g.\n",
        "\n",
        "La variación de temperatura (\n",
        "Δ\n",
        "𝑇)\n",
        " es 10°C.\n",
        "\n",
        "La cantidad de calor absorbido por el metal es 200 J.\n"
      ],
      "metadata": {
        "id": "CXql7TgfRslW"
      }
    },
    {
      "cell_type": "code",
      "source": [
        "def calcular_calor_especifico(masa, delta_T, calor):\n",
        "    \"\"\"\n",
        "    Calcula el calor específico de un metal.\n",
        "\n",
        "    masa: La masa del metal (en gramos).\n",
        "    delta_T: La variación de temperatura (en grados Celsius).\n",
        "    calor: La cantidad de calor absorbido por el metal (en julios).\n",
        "\n",
        "    Retorna el calor específico del metal (en J/g°C).\n",
        "    \"\"\"\n",
        "    calor_especifico = calor / (masa * delta_T)\n",
        "    return calor_especifico\n",
        "\n",
        "# Datos del experimento\n",
        "masa_metal = 50  # gramos\n",
        "delta_T = 10     # °C\n",
        "calor = 200      # julios\n",
        "\n",
        "# Calcular el calor específico\n",
        "calor_especifico = calcular_calor_especifico(masa_metal, delta_T, calor)\n",
        "print(f\"El calor específico del metal es: {calor_especifico} J/g°C\")\n"
      ],
      "metadata": {
        "colab": {
          "base_uri": "https://localhost:8080/"
        },
        "id": "MWG71cCzYCgi",
        "outputId": "cb15bb25-ab0e-420a-e763-feae3b3796ba"
      },
      "execution_count": null,
      "outputs": [
        {
          "output_type": "stream",
          "name": "stdout",
          "text": [
            "El calor específico del metal es: 0.4 J/g°C\n"
          ]
        }
      ]
    },
    {
      "cell_type": "markdown",
      "source": [
        "Problema #8\n",
        "\n",
        "Problema que calcule la presión osmotica a 25°C\n",
        "\n",
        "\n",
        "Supongamos que tienes una disolución de cloruro de sodio (NaCl), y necesitas calcular su presión osmótica a 30°C. La fórmula de la ley de Van't Hoff sigue siendo la misma, pero en este caso también debes considerar que el NaCl se disocia completamente en agua en Na⁺ y Cl⁻, por lo que el factor de Van't Hoff (i) será 2 (ya que hay dos partículas por cada molécula de NaCl disuelta).\n",
        "\n",
        "Datos:\n",
        "Concentración de NaCl: 100 g/L\n",
        "\n",
        "Peso molecular del NaCl: 58.44 g/mol\n",
        "\n",
        "Temperatura: 30°C\n",
        "\n",
        "Volumen: 1 L\n",
        "\n",
        "Factor de Van't Hoff (i): 2 (ya que NaCl se disocia en dos iones)"
      ],
      "metadata": {
        "id": "huEPoNdCRu3O"
      }
    },
    {
      "cell_type": "code",
      "source": [
        "def calcular_presion_osmotica_disociacion(concentracion_g_l, peso_molecular, temperatura_C, factor_disociacion):\n",
        "    \"\"\"\n",
        "    Calcula la presión osmótica de una disolución que se disocia en iones.\n",
        "\n",
        "    concentracion_g_l: Concentración del soluto en gramos por litro.\n",
        "    peso_molecular: Peso molecular del soluto (en g/mol).\n",
        "    temperatura_C: Temperatura en grados Celsius.\n",
        "    factor_disociacion: Factor de Van't Hoff (número de partículas que se forman por cada unidad de soluto).\n",
        "\n",
        "    Retorna la presión osmótica (en atmósferas).\n",
        "    \"\"\"\n",
        "    R = 0.0821  # Constante de los gases ideales en L·atm/(mol·K)\n",
        "\n",
        "    # Convertir la temperatura de Celsius a Kelvin\n",
        "    temperatura_K = temperatura_C + 273.15\n",
        "\n",
        "    # Convertir la concentración de g/L a moles/L\n",
        "    concentracion_moles_L = concentracion_g_l / peso_molecular\n",
        "\n",
        "    # Calcular la presión osmótica considerando el factor de disociación\n",
        "    presion_osmotica = concentracion_moles_L * factor_disociacion * R * temperatura_K\n",
        "\n",
        "    return presion_osmotica\n",
        "\n",
        "# Datos del problema\n",
        "concentracion_moles_l = 1.71  # moles/L\n",
        "peso_molecular = 58.44  # g/mol (NaCl)\n",
        "temperatura_K = 273.15  # K\n",
        "factor_disociacion = 2  # NaCl se disocia en dos iones (Na⁺ y Cl⁻)\n",
        "\n",
        "# Calcular la presión osmótica\n",
        "# Corrected the typo: concentracion_mole_l to concentracion_moles_l\n",
        "presion = calcular_presion_osmotica_disociacion(concentracion_g_l=concentracion_moles_l, peso_molecular=peso_molecular, temperatura_C=temperatura_K, factor_disociacion=factor_disociacion)\n",
        "print(f\"La presión osmótica de la disolución es: {presion:.2f} atm\")"
      ],
      "metadata": {
        "colab": {
          "base_uri": "https://localhost:8080/"
        },
        "id": "uGwutb-cdeUP",
        "outputId": "ca695656-f5ba-4707-a6f9-b6c1a5ace302"
      },
      "execution_count": null,
      "outputs": [
        {
          "output_type": "stream",
          "name": "stdout",
          "text": [
            "La presión osmótica de la disolución es: 2.62 atm\n"
          ]
        }
      ]
    },
    {
      "cell_type": "markdown",
      "source": [
        "Problema #9\n",
        "\n",
        "CALCULAR PRODUCTO DE SOLUBILIDAD DE UNA SAL INSOLUBLE\n",
        "\n",
        "Calcule el producto de solubilidad (\n",
        "𝐾\n",
        "𝑝\n",
        "𝑠\n",
        "K\n",
        "ps\n",
        "​\n",
        " ) de sulfato de bario (BaSO₄) en agua a 25°C. Sabemos que la solubilidad del sulfato de bario en agua es de 0.000244 g/L. El peso molecular del BaSO₄ es 233.39 g/mol. La sal se disocia en los iones\n",
        "Ba\n",
        "2\n",
        "+\n",
        "Ba\n",
        "2+\n",
        "  y\n",
        "SO\n",
        "4\n",
        "2\n",
        "−\n",
        "\n",
        " Peso molecular de BaSO₄: 233.39 g/mol\n",
        " Estequiometría de BaSO₄: 1 mol de\n",
        "Ba\n",
        "2\n",
        "+\n",
        "Ba\n",
        "2+\n",
        "  y 1 mol de\n",
        "SO\n",
        "4\n",
        "2\n",
        "−"
      ],
      "metadata": {
        "id": "tvCQDgaqRwe3"
      }
    },
    {
      "cell_type": "code",
      "source": [
        "def calcular_Kps(solubilidad_g_L, peso_molecular, estequiometria):\n",
        "    \"\"\"\n",
        "    Calcula el producto de solubilidad (Kps) de una sal insoluble.\n",
        "\n",
        "    solubilidad_g_L: Solubilidad del soluto en gramos por litro (g/L).\n",
        "    peso_molecular: Peso molecular del soluto (en g/mol).\n",
        "    estequiometria: Tupla que indica la relación estequiométrica entre los iones generados.\n",
        "\n",
        "    Retorna el valor de Kps.\n",
        "    \"\"\"\n",
        "    # Convertir la solubilidad de g/L a moles/L\n",
        "    solubilidad_mol_L = solubilidad_g_L / peso_molecular\n",
        "\n",
        "    # Calcular las concentraciones de los iones de acuerdo a la estequiometría\n",
        "    concentraciones_iones = [solubilidad_mol_L ** exponente for exponente in estequiometria]\n",
        "\n",
        "    # Producto de las concentraciones de los iones\n",
        "    Kps = 1\n",
        "    for concentracion in concentraciones_iones:\n",
        "        Kps *= concentracion\n",
        "\n",
        "    return Kps\n",
        "\n",
        "# Datos del problema\n",
        "solubilidad_g_L = 0.000244  # g/L (solubilidad de BaSO₄)\n",
        "peso_molecular = 233.39  # g/mol (BaSO₄)\n",
        "estequiometria = (1, 1)  # 1 mol de Ba²⁺ y 1 mol de SO₄²⁻\n",
        "\n",
        "# Calcular el producto de solubilidad (Kps)\n",
        "Kps = calcular_Kps(solubilidad_g_L, peso_molecular, estequiometria)\n",
        "print(f\"El producto de solubilidad (Kps) es: {Kps:.5e} mol²/L²\")\n"
      ],
      "metadata": {
        "colab": {
          "base_uri": "https://localhost:8080/"
        },
        "id": "L9lzcTwrfm0t",
        "outputId": "b9ec2478-35df-40d1-b927-c3d3bc525f99"
      },
      "execution_count": null,
      "outputs": [
        {
          "output_type": "stream",
          "name": "stdout",
          "text": [
            "El producto de solubilidad (Kps) es: 1.09299e-12 mol²/L²\n"
          ]
        }
      ]
    },
    {
      "cell_type": "markdown",
      "source": [
        "Problema #10\n",
        "\n",
        "Se desea determinar la energía de activación de una reacción química a partir de datos experimentales de la constante de velocidad a diferentes temperaturas. Los datos obtenidos en el laboratorio son los siguientes:\n",
        "\n",
        "\n",
        "*   A 300 K, la constante de velocidad\n",
        "\n",
        "𝑘\n",
        "=\n",
        "1.2\n",
        "×\n",
        "1\n",
        "0\n",
        "−\n",
        "3\n",
        "\n",
        "s\n",
        "−\n",
        "1\n",
        "k=1.2×10\n",
        "−3\n",
        " s\n",
        "−1\n",
        "\n",
        "*   A 310 K, la constante de velocidad\n",
        "\n",
        "k=2.5×10\n",
        "−3\n",
        " s\n",
        "−1\n",
        "*   A 320 K, la constante de velocidad\n",
        "\n",
        "\n",
        "𝑘\n",
        "=\n",
        "4.1\n",
        "×\n",
        "1\n",
        "0\n",
        "−\n",
        "3\n",
        "\n",
        "s\n",
        "−\n",
        "1\n",
        "\n",
        "*   A 330 K, la constante de velocidad\n",
        "\n",
        "𝑘\n",
        "=\n",
        "6.0\n",
        "×\n",
        "1\n",
        "0\n",
        "−\n",
        "3\n",
        "\n",
        "s\n",
        "−\n",
        "1\n",
        "k=6.0×10\n",
        "−3\n",
        " s\n",
        "−1\n",
        "\n",
        "\n",
        "\n",
        "*   A 340 K, la constante de velocidad\n",
        "\n",
        "\n",
        "𝑘\n",
        "=\n",
        "9.5\n",
        "×\n",
        "1\n",
        "0\n",
        "−\n",
        "3\n",
        "\n",
        "s\n",
        "−\n",
        "1\n",
        "k=9.5×10\n",
        "−3\n",
        " s\n",
        "−1\n",
        "\n",
        "Calcule la energía de activación\n",
        "𝐸\n",
        "𝑎\n",
        "​\n",
        " de la reacción usando la ecuación de Arrhenius.\n",
        "\n",
        "Grafique la relación entre\n",
        "ln\n",
        "⁡\n",
        "(\n",
        "𝑘\n",
        ")\n",
        "ln(k) y\n",
        "1\n",
        "/𝑇\n",
        "​\n",
        "  para comprobar la linealidad de los datos y validar el modelo de Arrhenius."
      ],
      "metadata": {
        "id": "fLT6WVSpRxwb"
      }
    },
    {
      "cell_type": "code",
      "source": [
        "import numpy as np\n",
        "import matplotlib.pyplot as plt\n",
        "from scipy.stats import linregress\n",
        "\n",
        "def calcular_energia_activacion(temperaturas, constantes_velocidad):\n",
        "    \"\"\"\n",
        "    Calcula la energía de activación a partir de temperaturas y constantes de velocidad.\n",
        "\n",
        "    Parámetros:\n",
        "    temperaturas (list): Lista de temperaturas en Kelvin.\n",
        "    constantes_velocidad (list): Lista de constantes de velocidad en s^-1.\n",
        "\n",
        "    Retorna:\n",
        "    energia_activacion (float): Energía de activación en J/mol.\n",
        "    \"\"\"\n",
        "\n",
        "    # Convertir temperaturas a inverso de T y calcular ln(k)\n",
        "    inv_T = 1 / np.array(temperaturas)\n",
        "    ln_k = np.log(constantes_velocidad)\n",
        "\n",
        "    # Realizar regresión lineal entre ln(k) y 1/T para obtener la pendiente\n",
        "    slope, intercept, _, _, _ = linregress(inv_T, ln_k)\n",
        "\n",
        "    # Calcular energía de activación usando la pendiente de la gráfica\n",
        "    R = 8.314  # Constante de los gases en J/(mol K)\n",
        "    energia_activacion = -slope * R\n",
        "\n",
        "    # Crear gráfica de Arrhenius\n",
        "    plt.figure(figsize=(8, 6))\n",
        "    plt.plot(inv_T, ln_k,\"o\",label=\"Datos experimentales\",color=\"blue\")\n",
        "    plt.plot(inv_T, intercept + slope * inv_T,label=f\"Recta de ajuste: $E_a$ = {energia_activacion:.2f} J/mol\", color=\"gold\", alpha=1)\n",
        "\n",
        "    # Configurar detalles de la gráfica\n",
        "    plt.xlabel(\"1 / T (1/K)\",color=\"red\")\n",
        "    plt.ylabel(\"ln(k)\",color=\"red\")\n",
        "    plt.title(\"Gráfica ln(k)vs 1/T\",color=\"red\",fontsize=16)\n",
        "    plt.legend()\n",
        "    plt.grid(True)\n",
        "    plt.show()\n",
        "\n",
        "    return energia_activacion\n",
        "\n",
        "# Datos del problema\n",
        "temperaturas = [300, 310, 320, 330, 340]  # Temperaturas en Kelvin\n",
        "constantes_velocidad = [1.2e-3, 2.5e-3, 4.1e-3, 6.0e-3, 9.5e-3]  # Constantes de velocidad en s^-1\n",
        "\n",
        "# Calcular y mostrar energía de activación\n",
        "energia_activacion = calcular_energia_activacion(temperaturas, constantes_velocidad)\n",
        "print(f\"Energía de activación: {energia_activacion:.2f} J/mol\")\n"
      ],
      "metadata": {
        "colab": {
          "base_uri": "https://localhost:8080/",
          "height": 585
        },
        "id": "L0gEeOJBoHaX",
        "outputId": "0a516877-8636-42ff-bbf2-3fa42a96ca2e"
      },
      "execution_count": 32,
      "outputs": [
        {
          "output_type": "display_data",
          "data": {
            "text/plain": [
              "<Figure size 800x600 with 1 Axes>"
            ],
            "image/png": "[encoded data removed]"
          },
          "metadata": {}
        },
        {
          "output_type": "stream",
          "name": "stdout",
          "text": [
            "Energía de activación: 42660.65 J/mol\n"
          ]
        }
      ]
    },
    {
      "cell_type": "markdown",
      "source": [
        "La pendiente de la gráfica de Arrhenius (que relaciona\n",
        "ln(k) y\n",
        "1\n",
        "/𝑇\n",
        ") está directamente relacionada con la energía de activación\n",
        "𝐸\n",
        "𝑎\n",
        "  de la reacción.\n",
        "  Así, cuanto mayor sea la pendiente (en valor absoluto), mayor será la energía de activación de la reacción."
      ],
      "metadata": {
        "id": "gkiYXSQrrg6t"
      }
    }
  ]
}